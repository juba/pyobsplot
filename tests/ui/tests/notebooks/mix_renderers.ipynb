{
 "cells": [
  {
   "cell_type": "code",
   "execution_count": null,
   "metadata": {},
   "outputs": [],
   "source": [
    "from pyobsplot import Obsplot, Plot\n",
    "\n",
    "import polars as pl\n",
    "\n",
    "df = pl.DataFrame(\n",
    "    {\"x\": list(range(10)), \"y\": list(range(10))[::-1], \"type\": list(\"aaabbbccdd\")}\n",
    ")\n",
    "\n",
    "opw = Obsplot(format=\"widget\")\n",
    "opj = Obsplot(format=\"html\")\n",
    "\n",
    "\n",
    "opw(\n",
    "    {\n",
    "        \"x\": {\"label\": \"x value\"},\n",
    "        \"color\": {\"legend\": True},\n",
    "        \"grid\": True,\n",
    "        \"marks\": [\n",
    "            Plot.dot(df, {\"x\": \"x\", \"y\": \"y\", \"fill\": \"type\"}),\n",
    "        ],\n",
    "    }\n",
    ")"
   ]
  },
  {
   "cell_type": "code",
   "execution_count": null,
   "metadata": {},
   "outputs": [],
   "source": [
    "opj(\n",
    "    {\n",
    "        \"x\": {\"label\": \"x value\"},\n",
    "        \"color\": {\"legend\": True},\n",
    "        \"grid\": True,\n",
    "        \"marks\": [\n",
    "            Plot.dot(df, {\"x\": \"x\", \"y\": \"y\", \"fill\": \"type\"}),\n",
    "        ],\n",
    "    }\n",
    ")"
   ]
  },
  {
   "cell_type": "code",
   "execution_count": null,
   "metadata": {},
   "outputs": [],
   "source": [
    "opw(\n",
    "    {\n",
    "        \"x\": {\"label\": \"x value\"},\n",
    "        \"color\": {\"legend\": True},\n",
    "        \"grid\": True,\n",
    "        \"marks\": [\n",
    "            Plot.dot(df, {\"x\": \"x\", \"y\": \"y\", \"fill\": \"type\"}),\n",
    "        ],\n",
    "    }\n",
    ")"
   ]
  },
  {
   "cell_type": "code",
   "execution_count": null,
   "metadata": {},
   "outputs": [],
   "source": [
    "opj(\n",
    "    {\n",
    "        \"x\": {\"label\": \"x value\"},\n",
    "        \"color\": {\"legend\": True},\n",
    "        \"grid\": True,\n",
    "        \"marks\": [\n",
    "            Plot.dot(df, {\"x\": \"x\", \"y\": \"y\", \"fill\": \"type\"}),\n",
    "        ],\n",
    "    }\n",
    ")"
   ]
  }
 ],
 "metadata": {
  "kernelspec": {
   "display_name": "pyobsplot-IeWpVr3Z-py3.10",
   "language": "python",
   "name": "python3"
  },
  "language_info": {
   "name": "python",
   "version": "3.10.12"
  },
  "orig_nbformat": 4
 },
 "nbformat": 4,
 "nbformat_minor": 2
}
