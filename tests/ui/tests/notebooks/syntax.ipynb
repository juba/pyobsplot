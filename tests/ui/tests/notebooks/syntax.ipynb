{
 "cells": [
  {
   "cell_type": "code",
   "execution_count": null,
   "metadata": {},
   "outputs": [],
   "source": [
    "from pyobsplot import Obsplot, Plot, d3, Math, js\n",
    "\n",
    "op = Obsplot()\n",
    "\n",
    "import polars as pl\n",
    "\n",
    "df = pl.DataFrame(\n",
    "    {\"x\": list(range(10)), \"y\": list(range(10))[::-1], \"type\": list(\"aaabbbccdd\")}\n",
    ")\n",
    "\n",
    "# direct syntax\n",
    "op(\n",
    "    {\n",
    "        \"x\": {\"label\": \"x value\"},\n",
    "        \"color\": {\"legend\": True},\n",
    "        \"grid\": True,\n",
    "        \"marks\": [\n",
    "            Plot.dot(df, {\"x\": \"x\", \"y\": \"y\", \"fill\": \"type\", \"tip\": True}),\n",
    "        ],\n",
    "    }\n",
    ")"
   ]
  },
  {
   "cell_type": "code",
   "execution_count": null,
   "metadata": {},
   "outputs": [],
   "source": [
    "# Plot.dot syntax\n",
    "op(Plot.dot(df, {\"x\": \"x\", \"y\": \"y\", \"fill\": \"type\", \"tip\": True}))"
   ]
  }
 ],
 "metadata": {
  "kernelspec": {
   "display_name": "Python 3",
   "language": "python",
   "name": "python3"
  },
  "language_info": {
   "codemirror_mode": {
    "name": "ipython",
    "version": 3
   },
   "file_extension": ".py",
   "mimetype": "text/x-python",
   "name": "python",
   "nbconvert_exporter": "python",
   "pygments_lexer": "ipython3",
   "version": "3.10.12"
  },
  "orig_nbformat": 4
 },
 "nbformat": 4,
 "nbformat_minor": 2
}
