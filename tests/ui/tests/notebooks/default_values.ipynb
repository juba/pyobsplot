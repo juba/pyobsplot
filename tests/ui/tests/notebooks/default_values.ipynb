{
 "cells": [
  {
   "cell_type": "code",
   "execution_count": null,
   "metadata": {},
   "outputs": [],
   "source": [
    "import polars as pl\n",
    "from pyobsplot import Obsplot, Plot\n",
    "\n",
    "default = {\"width\": 200, \"style\": {\"color\": \"white\", \"background-color\": \"#005\"}}\n",
    "opw = Obsplot(format=\"widget\")\n",
    "\n",
    "df = pl.DataFrame({\"x\": range(4), \"col\": list(\"AABB\")})\n",
    "\n",
    "opw(Plot.lineY(range(4)))"
   ]
  },
  {
   "cell_type": "code",
   "execution_count": null,
   "metadata": {},
   "outputs": [],
   "source": [
    "opwd = Obsplot(format=\"widget\", default=default)\n",
    "opwd(Plot.lineY(range(4)))"
   ]
  },
  {
   "cell_type": "code",
   "execution_count": null,
   "metadata": {},
   "outputs": [],
   "source": [
    "opw({\"color\": {\"legend\": True}, \"marks\": [Plot.dot(df, {\"x\": \"x\", \"fill\": \"col\"})]})"
   ]
  },
  {
   "cell_type": "code",
   "execution_count": null,
   "metadata": {},
   "outputs": [],
   "source": [
    "opwd({\"color\": {\"legend\": True}, \"marks\": [Plot.dot(df, {\"x\": \"x\", \"fill\": \"col\"})]})"
   ]
  },
  {
   "cell_type": "code",
   "execution_count": null,
   "metadata": {},
   "outputs": [],
   "source": [
    "opj = Obsplot(format=\"html\")\n",
    "opj(Plot.lineY(range(4)))"
   ]
  },
  {
   "cell_type": "code",
   "execution_count": null,
   "metadata": {},
   "outputs": [],
   "source": [
    "opjd = Obsplot(format=\"html\", default=default)\n",
    "opjd(Plot.lineY(range(4)))"
   ]
  },
  {
   "cell_type": "code",
   "execution_count": null,
   "metadata": {},
   "outputs": [],
   "source": [
    "opj({\"color\": {\"legend\": True}, \"marks\": [Plot.dot(df, {\"x\": \"x\", \"fill\": \"col\"})]})"
   ]
  },
  {
   "cell_type": "code",
   "execution_count": null,
   "metadata": {},
   "outputs": [],
   "source": [
    "opjd({\"color\": {\"legend\": True}, \"marks\": [Plot.dot(df, {\"x\": \"x\", \"fill\": \"col\"})]})"
   ]
  }
 ],
 "metadata": {
  "kernelspec": {
   "display_name": "Python 3",
   "language": "python",
   "name": "python3"
  },
  "language_info": {
   "codemirror_mode": {
    "name": "ipython",
    "version": 3
   },
   "file_extension": ".py",
   "mimetype": "text/x-python",
   "name": "python",
   "nbconvert_exporter": "python",
   "pygments_lexer": "ipython3",
   "version": "3.10.10"
  },
  "orig_nbformat": 4
 },
 "nbformat": 4,
 "nbformat_minor": 2
}
