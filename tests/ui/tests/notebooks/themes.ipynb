{
 "cells": [
  {
   "cell_type": "code",
   "execution_count": null,
   "metadata": {},
   "outputs": [],
   "source": [
    "import polars as pl\n",
    "from pyobsplot import Obsplot, Plot\n",
    "\n",
    "df = pl.DataFrame({\"x\": range(4), \"col\": list(\"AABB\")})\n",
    "\n",
    "opw = Obsplot(format=\"widget\", theme=\"light\")\n",
    "\n",
    "opw({\"color\": {\"legend\": True}, \"marks\": [Plot.dot(df, {\"x\": \"x\", \"fill\": \"col\"})]})"
   ]
  },
  {
   "cell_type": "code",
   "execution_count": null,
   "metadata": {},
   "outputs": [],
   "source": [
    "opw.theme = \"dark\"\n",
    "opw({\"color\": {\"legend\": True}, \"marks\": [Plot.dot(df, {\"x\": \"x\", \"fill\": \"col\"})]})"
   ]
  },
  {
   "cell_type": "code",
   "execution_count": null,
   "metadata": {},
   "outputs": [],
   "source": [
    "opw.theme = \"current\"\n",
    "opw({\"color\": {\"legend\": True}, \"marks\": [Plot.dot(df, {\"x\": \"x\", \"fill\": \"col\"})]})"
   ]
  },
  {
   "cell_type": "code",
   "execution_count": null,
   "metadata": {},
   "outputs": [],
   "source": [
    "opj = Obsplot(format=\"html\", theme=\"light\")\n",
    "opj({\"color\": {\"legend\": True}, \"marks\": [Plot.dot(df, {\"x\": \"x\", \"fill\": \"col\"})]})"
   ]
  },
  {
   "cell_type": "code",
   "execution_count": null,
   "metadata": {},
   "outputs": [],
   "source": [
    "opj.theme = \"dark\"\n",
    "opj({\"color\": {\"legend\": True}, \"marks\": [Plot.dot(df, {\"x\": \"x\", \"fill\": \"col\"})]})"
   ]
  },
  {
   "cell_type": "code",
   "execution_count": null,
   "metadata": {},
   "outputs": [],
   "source": [
    "opj.theme = \"current\"\n",
    "opj({\"color\": {\"legend\": True}, \"marks\": [Plot.dot(df, {\"x\": \"x\", \"fill\": \"col\"})]})"
   ]
  }
 ],
 "metadata": {
  "kernelspec": {
   "display_name": "Python 3",
   "language": "python",
   "name": "python3"
  },
  "language_info": {
   "codemirror_mode": {
    "name": "ipython",
    "version": 3
   },
   "file_extension": ".py",
   "mimetype": "text/x-python",
   "name": "python",
   "nbconvert_exporter": "python",
   "pygments_lexer": "ipython3",
   "version": "3.10.12"
  },
  "orig_nbformat": 4
 },
 "nbformat": 4,
 "nbformat_minor": 2
}
