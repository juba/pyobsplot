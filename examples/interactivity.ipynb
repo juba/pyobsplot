{
    "cells": [
        {
            "attachments": {},
            "cell_type": "markdown",
            "metadata": {},
            "source": [
                "# pyobsplot - jupyter interactivity\n",
                "\n",
                "**Note :** this notebook is designed to be used on [Google Colab](https://colab.research.google.com/github/juba/pyobsplot/blob/main/examples/introduction.ipynb).\n",
                "\n",
                "[pyobsplot](https://github.com/juba/pyobsplot) is a Python package which allows to use Observable Plot in Jupyter notebooks with a syntax as close as possible to the JavaScript one. For more information, see the [documentation website](https://juba.github.io/pyobsplot).\n",
                "\n",
                "When using the `widget` renderer, the fact that plots are generated as Jupyter widgets allow for basic interactivity. More specifically, you can set the spec attribute of an existing `pyobsplot` plot to another plot specification and it will update it.\n",
                "\n",
                "First we install the `pyobsplot` package in the Colab environment:\n"
            ]
        },
        {
            "cell_type": "code",
            "execution_count": null,
            "metadata": {},
            "outputs": [],
            "source": [
                "# Only needed in Colab, cleanup environment\n",
                "! pip uninstall -y pandas-gbq\n",
                "# Install pyobsplot\n",
                "! pip install pyobsplot"
            ]
        },
        {
            "attachments": {},
            "cell_type": "markdown",
            "metadata": {},
            "source": [
                "Then we load the needed modules and data:\n"
            ]
        },
        {
            "cell_type": "code",
            "execution_count": 1,
            "metadata": {},
            "outputs": [],
            "source": [
                "import polars as pl\n",
                "from IPython.display import display\n",
                "from ipywidgets import IntSlider\n",
                "\n",
                "from pyobsplot import Plot\n",
                "\n",
                "penguins = pl.read_csv(\n",
                "    \"https://github.com/juba/pyobsplot/raw/main/doc/data/penguins.csv\"\n",
                ")"
            ]
        },
        {
            "attachments": {},
            "cell_type": "markdown",
            "metadata": {},
            "source": [
                "The next step is to create a `generate_plot` function which takes an opacity value as input and returns a plot specification. We create our starting plot with an opacity value of 1.\n"
            ]
        },
        {
            "cell_type": "code",
            "execution_count": 2,
            "metadata": {},
            "outputs": [],
            "source": [
                "def generate_plot_spec(opacity):\n",
                "    return {\n",
                "        \"grid\": True,\n",
                "        \"marks\": [\n",
                "            Plot.rectY(\n",
                "                penguins,\n",
                "                Plot.binX(\n",
                "                    {\"y\": \"count\"},\n",
                "                    {\"x\": \"body_mass_g\", \"fill\": \"steelblue\", \"fillOpacity\": opacity},\n",
                "                ),\n",
                "            ),\n",
                "            Plot.ruleY([0]),\n",
                "        ],\n",
                "    }\n",
                "\n",
                "\n",
                "plot = Plot.plot(generate_plot_spec(1))"
            ]
        },
        {
            "attachments": {},
            "cell_type": "markdown",
            "metadata": {},
            "source": [
                "Now we create an `IntSlider` input widget and observe its value with a new `update_plot` function which generates a new specification with the updated opacity value, and stores it as the `spec` plot attribute.\n"
            ]
        },
        {
            "cell_type": "code",
            "execution_count": 3,
            "metadata": {},
            "outputs": [],
            "source": [
                "def update_plot(change):\n",
                "    new = change[\"new\"]\n",
                "    plot.spec = generate_plot_spec(new / 100)  # type: ignore\n",
                "\n",
                "\n",
                "w = IntSlider(value=100, min=0, max=100)\n",
                "w.observe(update_plot, names=\"value\")"
            ]
        },
        {
            "attachments": {},
            "cell_type": "markdown",
            "metadata": {},
            "source": [
                "Finally we can display both our input widget and our plot.\n"
            ]
        },
        {
            "cell_type": "code",
            "execution_count": null,
            "metadata": {},
            "outputs": [],
            "source": [
                "display(w)\n",
                "display(plot)"
            ]
        }
    ],
    "metadata": {
        "kernelspec": {
            "display_name": "Python 3",
            "language": "python",
            "name": "python3"
        },
        "language_info": {
            "codemirror_mode": {
                "name": "ipython",
                "version": 3
            },
            "file_extension": ".py",
            "mimetype": "text/x-python",
            "name": "python",
            "nbconvert_exporter": "python",
            "pygments_lexer": "ipython3",
            "version": "3.11.9"
        },
        "orig_nbformat": 4
    },
    "nbformat": 4,
    "nbformat_minor": 2
}
