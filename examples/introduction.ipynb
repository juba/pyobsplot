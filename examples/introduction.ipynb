{
 "cells": [
  {
   "attachments": {},
   "cell_type": "markdown",
   "metadata": {},
   "source": [
    "# pyobsplot\n",
    "\n",
    "**Note :** this notebook is designed to be used on [Google Colab](https://colab.research.google.com/github/juba/pyobsplot/blob/main/examples/introduction.ipynb).\n",
    "\n",
    "[pyobsplot](https://github.com/juba/pyobsplot) is a Python package which allows to use Observable Plot in Jupyter notebooks with a syntax as close as possible to the JavaScript one. For more information, see the [documentation website](https://juba.github.io/pyobsplot).\n",
    "\n",
    "## Getting started\n",
    "\n",
    "First, we install the package:\n"
   ]
  },
  {
   "cell_type": "code",
   "execution_count": null,
   "metadata": {},
   "outputs": [],
   "source": [
    "# Only needed in Colab, cleanup environment\n",
    "! pip uninstall -y pandas-gbq\n",
    "# Install pyobsplot\n",
    "! pip install pyobsplot"
   ]
  },
  {
   "attachments": {},
   "cell_type": "markdown",
   "metadata": {},
   "source": [
    "For the simplest case we only need to import the `Plot` class:\n"
   ]
  },
  {
   "cell_type": "code",
   "execution_count": 1,
   "metadata": {},
   "outputs": [],
   "source": [
    "from pyobsplot import Plot"
   ]
  },
  {
   "attachments": {},
   "cell_type": "markdown",
   "metadata": {},
   "source": [
    "We can then generate our first plots by passing a plot specification to the `Plot.plot()` method:\n"
   ]
  },
  {
   "cell_type": "code",
   "execution_count": null,
   "metadata": {},
   "outputs": [],
   "source": [
    "import polars as pl\n",
    "\n",
    "penguins = pl.read_csv(\n",
    "    \"https://github.com/juba/pyobsplot/raw/main/doc/data/penguins.csv\"\n",
    ")\n",
    "\n",
    "Plot.plot(\n",
    "    {\n",
    "        \"grid\": True,\n",
    "        \"marks\": [\n",
    "            Plot.dot(\n",
    "                penguins,\n",
    "                {\n",
    "                    \"x\": \"culmen_length_mm\",\n",
    "                    \"y\": \"culmen_depth_mm\",\n",
    "                    \"fill\": \"island\",\n",
    "                    \"tip\": True,\n",
    "                },\n",
    "            )\n",
    "        ],\n",
    "    }\n",
    ")"
   ]
  },
  {
   "cell_type": "code",
   "execution_count": null,
   "metadata": {},
   "outputs": [],
   "source": [
    "Plot.plot(\n",
    "    {\n",
    "        \"grid\": True,\n",
    "        \"marginRight\": 80,\n",
    "        \"color\": {\"legend\": True},\n",
    "        \"marks\": [\n",
    "            Plot.rectY(\n",
    "                penguins,\n",
    "                Plot.binX(\n",
    "                    {\"y\": \"count\"},\n",
    "                    {\"x\": \"body_mass_g\", \"fill\": \"island\", \"fy\": \"island\"},\n",
    "                ),\n",
    "            ),\n",
    "            Plot.ruleY([0]),\n",
    "        ],\n",
    "    }\n",
    ")"
   ]
  },
  {
   "attachments": {},
   "cell_type": "markdown",
   "metadata": {},
   "source": [
    "## Output formats\n",
    "\n",
    "By default, plots are created as Jupyter widgets. `pyobsplot` also allows to output plots to SVG, PNG and static HTML formats.\n",
    "\n",
    "To use these formats, we need to have a working installation of a recent node.js version:\n"
   ]
  },
  {
   "cell_type": "code",
   "execution_count": null,
   "metadata": {},
   "outputs": [],
   "source": [
    "! apt-get install -y ca-certificates curl gnupg\n",
    "! mkdir -p /etc/apt/keyrings\n",
    "! curl -fsSL https://deb.nodesource.com/gpgkey/nodesource-repo.gpg.key | sudo gpg --dearmor -o /etc/apt/keyrings/nodesource.gpg\n",
    "! echo \"deb [signed-by=/etc/apt/keyrings/nodesource.gpg] https://deb.nodesource.com/node_18.x nodistro main\" | sudo tee /etc/apt/sources.list.d/nodesource.list\n",
    "! apt-get update\n",
    "! apt-get install -y nodejs\n",
    "! npm install -g npm"
   ]
  },
  {
   "attachments": {},
   "cell_type": "markdown",
   "metadata": {},
   "source": [
    "And we need to install the `pyobsplot` npm package:\n"
   ]
  },
  {
   "cell_type": "code",
   "execution_count": null,
   "metadata": {},
   "outputs": [],
   "source": [
    "! npm install pyobsplot"
   ]
  },
  {
   "attachments": {},
   "cell_type": "markdown",
   "metadata": {},
   "source": [
    "Then, when creating a new plot, we can specify an output `format`:\n"
   ]
  },
  {
   "cell_type": "code",
   "execution_count": null,
   "metadata": {},
   "outputs": [],
   "source": [
    "ca55 = pl.read_csv(\"https://github.com/juba/pyobsplot/raw/main/doc/data/ca55-south.csv\")\n",
    "\n",
    "Plot.plot(\n",
    "    {\n",
    "        \"x\": {\"axis\": None},\n",
    "        \"y\": {\"axis\": None},\n",
    "        \"inset\": 10,\n",
    "        \"marginBottom\": 2,\n",
    "        \"height\": 500,\n",
    "        \"color\": {\"type\": \"diverging\"},\n",
    "        \"marks\": [\n",
    "            Plot.raster(\n",
    "                ca55,\n",
    "                {\n",
    "                    \"x\": \"LONGITUDE\",\n",
    "                    \"y\": \"LATITUDE\",\n",
    "                    \"fill\": \"MAG_IGRF90\",\n",
    "                    \"interpolate\": \"random-walk\",\n",
    "                },\n",
    "            ),\n",
    "            Plot.frame(),\n",
    "        ],\n",
    "    }\n",
    ")"
   ]
  },
  {
   "attachments": {},
   "cell_type": "markdown",
   "metadata": {},
   "source": [
    "Sometimes a plot specification includes some JavaScript code. To add those to a plot specification we have to pass it as a string and wrap it into the `js()` method:\n"
   ]
  },
  {
   "cell_type": "code",
   "execution_count": null,
   "metadata": {},
   "outputs": [],
   "source": [
    "from datetime import datetime\n",
    "\n",
    "from pyobsplot import js\n",
    "\n",
    "ipos = pl.read_csv(\n",
    "    \"https://github.com/juba/pyobsplot/raw/main/doc/data/ipos.csv\", try_parse_dates=True\n",
    ").filter(pl.col(\"date\") > datetime(1991, 1, 1))\n",
    "\n",
    "\n",
    "Plot.plot(\n",
    "    {\n",
    "        \"insetRight\": 10,\n",
    "        \"height\": 600,\n",
    "        \"width\": 600,\n",
    "        \"marks\": [\n",
    "            Plot.dot(\n",
    "                ipos, Plot.dodgeY({\"x\": \"date\", \"r\": \"rMVOP\", \"fill\": \"currentColor\"})\n",
    "            ),\n",
    "            Plot.text(\n",
    "                ipos,\n",
    "                Plot.dodgeY(\n",
    "                    {\n",
    "                        \"filter\": js(\"(d) => d.rMVOP > 5e3\"),\n",
    "                        \"x\": \"date\",\n",
    "                        \"r\": \"rMVOP\",\n",
    "                        \"text\": js(\"d => (d.rMVOP / 1e3).toFixed()\"),\n",
    "                        \"fill\": \"white\",\n",
    "                        \"fontWeight\": \"bold\",\n",
    "                    }\n",
    "                ),\n",
    "            ),\n",
    "        ],\n",
    "    }\n",
    ")"
   ]
  }
 ],
 "metadata": {
  "kernelspec": {
   "display_name": "pyobsplot-IeWpVr3Z-py3.10",
   "language": "python",
   "name": "python3"
  },
  "language_info": {
   "codemirror_mode": {
    "name": "ipython",
    "version": 3
   },
   "file_extension": ".py",
   "mimetype": "text/x-python",
   "name": "python",
   "nbconvert_exporter": "python",
   "pygments_lexer": "ipython3",
   "version": "3.11.9"
  },
  "orig_nbformat": 4
 },
 "nbformat": 4,
 "nbformat_minor": 2
}
